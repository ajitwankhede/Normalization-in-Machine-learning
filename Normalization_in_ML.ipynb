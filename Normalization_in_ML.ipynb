{
  "nbformat": 4,
  "nbformat_minor": 0,
  "metadata": {
    "colab": {
      "provenance": [],
      "collapsed_sections": [],
      "authorship_tag": "ABX9TyNqO2QvYjUDw0CMHJM374DK",
      "include_colab_link": true
    },
    "kernelspec": {
      "name": "python3",
      "display_name": "Python 3"
    },
    "language_info": {
      "name": "python"
    }
  },
  "cells": [
    {
      "cell_type": "markdown",
      "metadata": {
        "id": "view-in-github",
        "colab_type": "text"
      },
      "source": [
        "<a href=\"https://colab.research.google.com/github/ajitwankhede/Normalization-in-Machine-learning/blob/main/Normalization_in_ML.ipynb\" target=\"_parent\"><img src=\"https://colab.research.google.com/assets/colab-badge.svg\" alt=\"Open In Colab\"/></a>"
      ]
    },
    {
      "cell_type": "markdown",
      "source": [
        "### What is Normalization in ML?\n",
        "\n",
        "Normalization is a scaling technique in Machine Learning applied during data preparation to change the values of numeric columns in the dataset to use a common scale. It is not necessary for all datasets in a model. It is required only when features of machine learning models have different ranges.\n"
      ],
      "metadata": {
        "id": "YWjLzdyVCzBM"
      }
    },
    {
      "cell_type": "markdown",
      "source": [
        "#### Methods of Data Normalization :\n",
        "1) Decimal Scaling\n",
        "\n",
        "2) Min-Max Normalization\n",
        "\n",
        "3) z-Score Normalization(zero-mean Normalization)\n",
        "\n",
        "Implementing different methods of Data \n",
        "normalization:\n",
        "\n",
        "1. Decimal Scaling\n",
        "Decimal normalization is a method of normalization in which the given value is normalized by shifting the decimal points of that value. The number of decimal points to move is determined by the absolute maximum value of the given set of data.\n",
        "If Vi value of attribute A, then Ui is given as,\n",
        "Decimal Scale Normalization formula:"
      ],
      "metadata": {
        "id": "EMuOdTwuDM9k"
      }
    },
    {
      "cell_type": "markdown",
      "source": [
        "![1662872965057.jpg](data:image/jpeg;base64,/9j/4AAQSkZJRgABAQAAAQABAAD/2wBDAAMCAgMCAgMDAwMEAwMEBQgFBQQEBQoHBwYIDAoMDAsKCwsNDhIQDQ4RDgsLEBYQERMUFRUVDA8XGBYUGBIUFRT/2wBDAQMEBAUEBQkFBQkUDQsNFBQUFBQUFBQUFBQUFBQUFBQUFBQUFBQUFBQUFBQUFBQUFBQUFBQUFBQUFBQUFBQUFBT/wgARCAByAL4DASIAAhEBAxEB/8QAHAABAQACAwEBAAAAAAAAAAAAAAYFBwEDBAII/8QAFAEBAAAAAAAAAAAAAAAAAAAAAP/aAAwDAQACEAMQAAAB/VIAAAAAAAAAAAAAAAAAANC7s0Ntskts4vAFmAAABjclrwp+YsbD9nR3gAAGirehzR9wt0AAAAGhd9aiNrxvxnzJeqFuic8/o6DjO4POnZO1eDPA932Y50WRKZbw0YAAAABJVoAAIm2miVm6SUKetme442PhM2AAAAAAAAIm2GsshejV+yu4AAAAAAAAAAAAAAAAAAAAAAAAAAAf/8QAJxAAAgEEAQMEAgMAAAAAAAAABAUDAAECBgcVFiARMDZAExQkUGD/2gAIAQEAAQUC/vtqaO1GxCxSQwA4umLn6vLfrBk/PlHhXARLAmjIa5fslHjA2gdAFTEOABJRyYi4vPmHD11bXMZGedMVphL72d8JiD1TQEkSzWHywVtskceEOHm3UDOw7Wtjb2+VcsjYo48Yo1n8zY5JsIb0QljKm7dirt2KhR7CQy5Xww6ofXVD66ofXVD66ofXVD6CImJw891VE5se47n4KV1lYUzHOTYaI19aXP2qortVRQosQUFHOQVdk7aB4uZsxlAsWzj/ALVGG4XM9u6TLJz5bMANkl4z+Du57m8ncmRWk0zWz8miCWDAjcPpbL8c4z+DscL4cwckfCdYW/m0cBZEu+m+DaMYdWStteC2TXs2szdUz2mHCPGLD/Tf/8QAFBEBAAAAAAAAAAAAAAAAAAAAYP/aAAgBAwEBPwFB/8QAFBEBAAAAAAAAAAAAAAAAAAAAYP/aAAgBAgEBPwFB/8QAQRAAAQMCAwIICAwHAAAAAAAAAQIDBAARBRIhEzEiMDVBUWGRoRBxcoGTstHSFCMyNEBCQ2KSlMHCICRQUmB0ov/aAAgBAQAGPwL+vYVFYxO0bEHinWOg7LhDTr30lDrxkODe6pIF/MKm7PGLYYw5s02jozKV9ZO7cN1/o2ATB9hK9h/bTUWKf56WrZs/c/uX5h+lMxWAQ20mwvv8Z66jwnA/8Y+lGdleWy7ZwNDfcNfGOKSZMhqOFaAurCb9tJaZnRnXVbkIdSSfNRbfmx2XB9Rx0JNB1lxLraty2zcHz8Q04BctykK7jSsakJKFSEBEdtQsW2fao69ngjyW8uyZaKW1H7NZVwlW8nQePisRfcbQ4Q2Uozi9lK4P61hpLKBIW3tVOW4XC13+I1g8dyM07k2kp26dbJGVN+q6h2UEISEJG5KRYcR8Glt7VjMlWXxG9WGg4zB8Hb+XNlDsGn7u6koSMqUiwHQKxaXoUsBENCh1DOrvUOyk7RaUZlZU5jvPR4FOmRMQVfVbkrSOwGvneIfnHPbXzvEPzjntoNpUtYHO4oqV2mlFKS4QLhI565Fkema96uRZHpmverkWR6Zr3q5Fkema96uRZHpmverkWR6Zr3qVtojkQ8wWpKr9hPEYNi8Zhcv4A6S4wjVRSbagc+6smFxnn5CtLvtKbbb8okdw1pLIWXVXK3HVDVayblR89RISora0HO6M4upATptOq5Nu/q8CnnoTLjqt6lJ1NcnR/wAFcnR/wUllhtLTSdyU7vATLlsx7C9lrAPZTM6NcsOXy5hY6G36UZEpzZt3yjS5UeYAc5pliQzJgrfOVkym8ocPQD09R8EeMiYI7xcF05M2fS5RfcDbXptxjs4yVZVhsbO2oCLm2boubkfx4pIMdoyPgjnxpQM3yDz1hfkr9dVYHBVcssMqkZfv2Vr3Cp6j8pvItJ6DnFYfLWbuOsJUo9dte+obKE5W4bLktVudxw5Rf/v6Hiv+q76hrC/JX66qwtR3Lhqt2LrFPJT64rD4jxWhLsQBRbVlUMw5j56cKSpx1220dcN1Ktu+hyI0VyG1GeZLZLyVFetwdxtUSAt+G9DZvchCguxuem281BmxHEM4jCXnaWscFQ50qtrakQpjTMCDtAp/I7tVuga5RoLCkoQMqALADm/yf//EACgQAQEAAQMDAwQCAwAAAAAAAAERIQAxQVFhgRAwcSBAkaFQ8WCxwf/aAAgBAQABPyH+eYCUshCFNgd24zoj75hfWAHjTHkEgcQXk8lb0X7bLgEyGyy7aSbKZyCVO1n5jnRcCW1dU5SqvKukPkNBNpQRFBSU39p+2RauhRdUxJj2FwGuBfg0SLhRUdsLdUMdJmYwYck8ew4lQJsR/wBpqVshAZFPke08ekvMoFCzN1PIVWe1H0dOwEvI1jpqVWkNNi7tg8aeNJJqKCmUyOu2T4A+A9hOdGpSpDJwyPZdGAAIBgPciJPcyQ/Ch0NeMfYMBoihvimw/haY5Wkl9hd1mx09M8NEbxMQHj1KFL/dz1m5RXSdSJgo2CoC7ZQ+uDBgwYMF4IsjzqP7nsQ8uXd7lDgZydHTJNZf+pVndUmNycY4BVE5U/BDjR1AZFgA7UySzdn0OiWmqSZfjX9Y1/WNVjhNBWuPlfTJZPGO1V8GkJzfUrc4ytRRgglcBVTgK6T8KTDYoLiC8HooYJpAVrJ2LgoTPuXIECUANYeIZTeKfWcMGMEIbb+/QEzoaW1R8NQWHcM4o8MU8677gql/01gjEVE+wYLz9r4BCpgvGunrkkSEAKYHDNHlqWGKBQAAwABviqv2R7zO5KCERJvm6XZRWqYFydjbSVXql2OcOptnGdAo1bTAwzJla7Y6kwCOgDYP8n//2gAMAwEAAgADAAAAEPPPPPPPPPPPPPPPPPPPANPPPPKHNPPPLPPPPPPBNCEHPNLPPPPPHPPOOMFPPPPPPPPLLDPPPPPPPPPPPPPPPPPPPPPPPPPPPP/EABQRAQAAAAAAAAAAAAAAAAAAAGD/2gAIAQMBAT8QQf/EABQRAQAAAAAAAAAAAAAAAAAAAGD/2gAIAQIBAT8QQf/EACkQAAEDAgUCBgMAAAAAAAAAAAEAESExQRAwUWFxQKEggZHB4fBQYLH/2gAIAQEAAT8Q/Pr56IEAANKIOHqtAIWR7rrF00AAABOgFAuAgQAMo/QKgkJ1vHOqAABDb5rgSQAGUA+kdQDqAjBHc7kHGwGopCpCYIBPKHwUwATIHpJy5WD4wiSsAIE7w6/KCIBAKYCLoJAB+lQLgAGNNqQlNQICB4rlx0QZAFuU0CRUQAwjMDDMLcJQ3gIihWKAOwVBAGaRJg9dp+shAuYCuucNWAxHPnCdsehcugQS9xJJUAPcGfu3bt27d/XxIQxjOsq/pgCAjPgHmd8igA3X8AHhAECvWmS1oC5IYJ7UuhiAxAA+bgxyAYP/AKruJ+4BGlfBgSL4AgkaRtMmwESVsTfDT1AAAw7g4oRowgMwAEplEgZ4xAAGZuJyFgGcYdogC5EQ0rzZIIAE6UYkDHH/AKWQAMNzyRuAiEBGHWzuQYhDh9CyG9TCduYAgDpQDgQgqQEBhYboIAN1vJAEIA6krhDtNEVICBYGojQHQAGA/Z//2Q==)"
      ],
      "metadata": {
        "id": "wOPS6_KSDbHG"
      }
    },
    {
      "cell_type": "markdown",
      "source": [
        "Where, j is the smallest integer such that max|Ui|<1."
      ],
      "metadata": {
        "id": "lzoGOMe1DwUs"
      }
    },
    {
      "cell_type": "code",
      "source": [
        "import pandas as pd\n",
        "import numpy as np\n",
        "import matplotlib.pyplot as plt\n"
      ],
      "metadata": {
        "id": "V-9bea8uDMfU"
      },
      "execution_count": 1,
      "outputs": []
    },
    {
      "cell_type": "code",
      "execution_count": 3,
      "metadata": {
        "colab": {
          "base_uri": "https://localhost:8080/",
          "height": 206
        },
        "id": "o0ffV5iWCt7v",
        "outputId": "505962bb-ea36-4187-99f2-195f5b3cb7f6"
      },
      "outputs": [
        {
          "output_type": "execute_result",
          "data": {
            "text/plain": [
              "     A      B       C\n",
              "0   29     90    75.0\n",
              "1   49    167   140.0\n",
              "2  680   1109    70.0\n",
              "3  798  12345   922.5\n",
              "4   55    170  1212.5"
            ],
            "text/html": [
              "\n",
              "  <div id=\"df-b4795071-caa3-41c6-8a4f-263dd3890209\">\n",
              "    <div class=\"colab-df-container\">\n",
              "      <div>\n",
              "<style scoped>\n",
              "    .dataframe tbody tr th:only-of-type {\n",
              "        vertical-align: middle;\n",
              "    }\n",
              "\n",
              "    .dataframe tbody tr th {\n",
              "        vertical-align: top;\n",
              "    }\n",
              "\n",
              "    .dataframe thead th {\n",
              "        text-align: right;\n",
              "    }\n",
              "</style>\n",
              "<table border=\"1\" class=\"dataframe\">\n",
              "  <thead>\n",
              "    <tr style=\"text-align: right;\">\n",
              "      <th></th>\n",
              "      <th>A</th>\n",
              "      <th>B</th>\n",
              "      <th>C</th>\n",
              "    </tr>\n",
              "  </thead>\n",
              "  <tbody>\n",
              "    <tr>\n",
              "      <th>0</th>\n",
              "      <td>29</td>\n",
              "      <td>90</td>\n",
              "      <td>75.0</td>\n",
              "    </tr>\n",
              "    <tr>\n",
              "      <th>1</th>\n",
              "      <td>49</td>\n",
              "      <td>167</td>\n",
              "      <td>140.0</td>\n",
              "    </tr>\n",
              "    <tr>\n",
              "      <th>2</th>\n",
              "      <td>680</td>\n",
              "      <td>1109</td>\n",
              "      <td>70.0</td>\n",
              "    </tr>\n",
              "    <tr>\n",
              "      <th>3</th>\n",
              "      <td>798</td>\n",
              "      <td>12345</td>\n",
              "      <td>922.5</td>\n",
              "    </tr>\n",
              "    <tr>\n",
              "      <th>4</th>\n",
              "      <td>55</td>\n",
              "      <td>170</td>\n",
              "      <td>1212.5</td>\n",
              "    </tr>\n",
              "  </tbody>\n",
              "</table>\n",
              "</div>\n",
              "      <button class=\"colab-df-convert\" onclick=\"convertToInteractive('df-b4795071-caa3-41c6-8a4f-263dd3890209')\"\n",
              "              title=\"Convert this dataframe to an interactive table.\"\n",
              "              style=\"display:none;\">\n",
              "        \n",
              "  <svg xmlns=\"http://www.w3.org/2000/svg\" height=\"24px\"viewBox=\"0 0 24 24\"\n",
              "       width=\"24px\">\n",
              "    <path d=\"M0 0h24v24H0V0z\" fill=\"none\"/>\n",
              "    <path d=\"M18.56 5.44l.94 2.06.94-2.06 2.06-.94-2.06-.94-.94-2.06-.94 2.06-2.06.94zm-11 1L8.5 8.5l.94-2.06 2.06-.94-2.06-.94L8.5 2.5l-.94 2.06-2.06.94zm10 10l.94 2.06.94-2.06 2.06-.94-2.06-.94-.94-2.06-.94 2.06-2.06.94z\"/><path d=\"M17.41 7.96l-1.37-1.37c-.4-.4-.92-.59-1.43-.59-.52 0-1.04.2-1.43.59L10.3 9.45l-7.72 7.72c-.78.78-.78 2.05 0 2.83L4 21.41c.39.39.9.59 1.41.59.51 0 1.02-.2 1.41-.59l7.78-7.78 2.81-2.81c.8-.78.8-2.07 0-2.86zM5.41 20L4 18.59l7.72-7.72 1.47 1.35L5.41 20z\"/>\n",
              "  </svg>\n",
              "      </button>\n",
              "      \n",
              "  <style>\n",
              "    .colab-df-container {\n",
              "      display:flex;\n",
              "      flex-wrap:wrap;\n",
              "      gap: 12px;\n",
              "    }\n",
              "\n",
              "    .colab-df-convert {\n",
              "      background-color: #E8F0FE;\n",
              "      border: none;\n",
              "      border-radius: 50%;\n",
              "      cursor: pointer;\n",
              "      display: none;\n",
              "      fill: #1967D2;\n",
              "      height: 32px;\n",
              "      padding: 0 0 0 0;\n",
              "      width: 32px;\n",
              "    }\n",
              "\n",
              "    .colab-df-convert:hover {\n",
              "      background-color: #E2EBFA;\n",
              "      box-shadow: 0px 1px 2px rgba(60, 64, 67, 0.3), 0px 1px 3px 1px rgba(60, 64, 67, 0.15);\n",
              "      fill: #174EA6;\n",
              "    }\n",
              "\n",
              "    [theme=dark] .colab-df-convert {\n",
              "      background-color: #3B4455;\n",
              "      fill: #D2E3FC;\n",
              "    }\n",
              "\n",
              "    [theme=dark] .colab-df-convert:hover {\n",
              "      background-color: #434B5C;\n",
              "      box-shadow: 0px 1px 3px 1px rgba(0, 0, 0, 0.15);\n",
              "      filter: drop-shadow(0px 1px 2px rgba(0, 0, 0, 0.3));\n",
              "      fill: #FFFFFF;\n",
              "    }\n",
              "  </style>\n",
              "\n",
              "      <script>\n",
              "        const buttonEl =\n",
              "          document.querySelector('#df-b4795071-caa3-41c6-8a4f-263dd3890209 button.colab-df-convert');\n",
              "        buttonEl.style.display =\n",
              "          google.colab.kernel.accessAllowed ? 'block' : 'none';\n",
              "\n",
              "        async function convertToInteractive(key) {\n",
              "          const element = document.querySelector('#df-b4795071-caa3-41c6-8a4f-263dd3890209');\n",
              "          const dataTable =\n",
              "            await google.colab.kernel.invokeFunction('convertToInteractive',\n",
              "                                                     [key], {});\n",
              "          if (!dataTable) return;\n",
              "\n",
              "          const docLinkHtml = 'Like what you see? Visit the ' +\n",
              "            '<a target=\"_blank\" href=https://colab.research.google.com/notebooks/data_table.ipynb>data table notebook</a>'\n",
              "            + ' to learn more about interactive tables.';\n",
              "          element.innerHTML = '';\n",
              "          dataTable['output_type'] = 'display_data';\n",
              "          await google.colab.output.renderOutput(dataTable, element);\n",
              "          const docLink = document.createElement('div');\n",
              "          docLink.innerHTML = docLinkHtml;\n",
              "          element.appendChild(docLink);\n",
              "        }\n",
              "      </script>\n",
              "    </div>\n",
              "  </div>\n",
              "  "
            ]
          },
          "metadata": {},
          "execution_count": 3
        }
      ],
      "source": [
        "data = { 'A': [29, 49, 680, 798, 55, 88, 97, 597, 309, 23],\n",
        "        'B': [90,167,1109, 12345, 170, 185,153,342,84, 78],\n",
        "        'C': [75,140,70,922.5, 1212.5, 12140, 100, 112.5, 195, 2247.5]}\n",
        "\n",
        "df = pd.DataFrame(data, columns = ['A','B','C'])\n",
        "df.head()"
      ]
    },
    {
      "cell_type": "code",
      "source": [
        "# Decimal scaling in Python \n",
        "def Dec_scale(df):\n",
        "  for x in df:\n",
        "    p = df[x].max()\n",
        "    q = len(str(abs(p)))\n",
        "    df[x] = df[x]/10**q\n",
        "  return df"
      ],
      "metadata": {
        "id": "eVmleQ7RGTpe"
      },
      "execution_count": 8,
      "outputs": []
    },
    {
      "cell_type": "code",
      "source": [
        "df_decimal = Dec_scale(df.copy())\n",
        "df_decimal"
      ],
      "metadata": {
        "colab": {
          "base_uri": "https://localhost:8080/",
          "height": 363
        },
        "id": "mVSI7zstHFQK",
        "outputId": "cc116d95-cb14-4214-c783-5d0d498f451a"
      },
      "execution_count": 9,
      "outputs": [
        {
          "output_type": "execute_result",
          "data": {
            "text/plain": [
              "       A        B         C\n",
              "0  0.029  0.00090  0.000008\n",
              "1  0.049  0.00167  0.000014\n",
              "2  0.680  0.01109  0.000007\n",
              "3  0.798  0.12345  0.000092\n",
              "4  0.055  0.00170  0.000121\n",
              "5  0.088  0.00185  0.001214\n",
              "6  0.097  0.00153  0.000010\n",
              "7  0.597  0.00342  0.000011\n",
              "8  0.309  0.00084  0.000019\n",
              "9  0.023  0.00078  0.000225"
            ],
            "text/html": [
              "\n",
              "  <div id=\"df-f6689bc2-7c33-499d-a086-657ec34790b7\">\n",
              "    <div class=\"colab-df-container\">\n",
              "      <div>\n",
              "<style scoped>\n",
              "    .dataframe tbody tr th:only-of-type {\n",
              "        vertical-align: middle;\n",
              "    }\n",
              "\n",
              "    .dataframe tbody tr th {\n",
              "        vertical-align: top;\n",
              "    }\n",
              "\n",
              "    .dataframe thead th {\n",
              "        text-align: right;\n",
              "    }\n",
              "</style>\n",
              "<table border=\"1\" class=\"dataframe\">\n",
              "  <thead>\n",
              "    <tr style=\"text-align: right;\">\n",
              "      <th></th>\n",
              "      <th>A</th>\n",
              "      <th>B</th>\n",
              "      <th>C</th>\n",
              "    </tr>\n",
              "  </thead>\n",
              "  <tbody>\n",
              "    <tr>\n",
              "      <th>0</th>\n",
              "      <td>0.029</td>\n",
              "      <td>0.00090</td>\n",
              "      <td>0.000008</td>\n",
              "    </tr>\n",
              "    <tr>\n",
              "      <th>1</th>\n",
              "      <td>0.049</td>\n",
              "      <td>0.00167</td>\n",
              "      <td>0.000014</td>\n",
              "    </tr>\n",
              "    <tr>\n",
              "      <th>2</th>\n",
              "      <td>0.680</td>\n",
              "      <td>0.01109</td>\n",
              "      <td>0.000007</td>\n",
              "    </tr>\n",
              "    <tr>\n",
              "      <th>3</th>\n",
              "      <td>0.798</td>\n",
              "      <td>0.12345</td>\n",
              "      <td>0.000092</td>\n",
              "    </tr>\n",
              "    <tr>\n",
              "      <th>4</th>\n",
              "      <td>0.055</td>\n",
              "      <td>0.00170</td>\n",
              "      <td>0.000121</td>\n",
              "    </tr>\n",
              "    <tr>\n",
              "      <th>5</th>\n",
              "      <td>0.088</td>\n",
              "      <td>0.00185</td>\n",
              "      <td>0.001214</td>\n",
              "    </tr>\n",
              "    <tr>\n",
              "      <th>6</th>\n",
              "      <td>0.097</td>\n",
              "      <td>0.00153</td>\n",
              "      <td>0.000010</td>\n",
              "    </tr>\n",
              "    <tr>\n",
              "      <th>7</th>\n",
              "      <td>0.597</td>\n",
              "      <td>0.00342</td>\n",
              "      <td>0.000011</td>\n",
              "    </tr>\n",
              "    <tr>\n",
              "      <th>8</th>\n",
              "      <td>0.309</td>\n",
              "      <td>0.00084</td>\n",
              "      <td>0.000019</td>\n",
              "    </tr>\n",
              "    <tr>\n",
              "      <th>9</th>\n",
              "      <td>0.023</td>\n",
              "      <td>0.00078</td>\n",
              "      <td>0.000225</td>\n",
              "    </tr>\n",
              "  </tbody>\n",
              "</table>\n",
              "</div>\n",
              "      <button class=\"colab-df-convert\" onclick=\"convertToInteractive('df-f6689bc2-7c33-499d-a086-657ec34790b7')\"\n",
              "              title=\"Convert this dataframe to an interactive table.\"\n",
              "              style=\"display:none;\">\n",
              "        \n",
              "  <svg xmlns=\"http://www.w3.org/2000/svg\" height=\"24px\"viewBox=\"0 0 24 24\"\n",
              "       width=\"24px\">\n",
              "    <path d=\"M0 0h24v24H0V0z\" fill=\"none\"/>\n",
              "    <path d=\"M18.56 5.44l.94 2.06.94-2.06 2.06-.94-2.06-.94-.94-2.06-.94 2.06-2.06.94zm-11 1L8.5 8.5l.94-2.06 2.06-.94-2.06-.94L8.5 2.5l-.94 2.06-2.06.94zm10 10l.94 2.06.94-2.06 2.06-.94-2.06-.94-.94-2.06-.94 2.06-2.06.94z\"/><path d=\"M17.41 7.96l-1.37-1.37c-.4-.4-.92-.59-1.43-.59-.52 0-1.04.2-1.43.59L10.3 9.45l-7.72 7.72c-.78.78-.78 2.05 0 2.83L4 21.41c.39.39.9.59 1.41.59.51 0 1.02-.2 1.41-.59l7.78-7.78 2.81-2.81c.8-.78.8-2.07 0-2.86zM5.41 20L4 18.59l7.72-7.72 1.47 1.35L5.41 20z\"/>\n",
              "  </svg>\n",
              "      </button>\n",
              "      \n",
              "  <style>\n",
              "    .colab-df-container {\n",
              "      display:flex;\n",
              "      flex-wrap:wrap;\n",
              "      gap: 12px;\n",
              "    }\n",
              "\n",
              "    .colab-df-convert {\n",
              "      background-color: #E8F0FE;\n",
              "      border: none;\n",
              "      border-radius: 50%;\n",
              "      cursor: pointer;\n",
              "      display: none;\n",
              "      fill: #1967D2;\n",
              "      height: 32px;\n",
              "      padding: 0 0 0 0;\n",
              "      width: 32px;\n",
              "    }\n",
              "\n",
              "    .colab-df-convert:hover {\n",
              "      background-color: #E2EBFA;\n",
              "      box-shadow: 0px 1px 2px rgba(60, 64, 67, 0.3), 0px 1px 3px 1px rgba(60, 64, 67, 0.15);\n",
              "      fill: #174EA6;\n",
              "    }\n",
              "\n",
              "    [theme=dark] .colab-df-convert {\n",
              "      background-color: #3B4455;\n",
              "      fill: #D2E3FC;\n",
              "    }\n",
              "\n",
              "    [theme=dark] .colab-df-convert:hover {\n",
              "      background-color: #434B5C;\n",
              "      box-shadow: 0px 1px 3px 1px rgba(0, 0, 0, 0.15);\n",
              "      filter: drop-shadow(0px 1px 2px rgba(0, 0, 0, 0.3));\n",
              "      fill: #FFFFFF;\n",
              "    }\n",
              "  </style>\n",
              "\n",
              "      <script>\n",
              "        const buttonEl =\n",
              "          document.querySelector('#df-f6689bc2-7c33-499d-a086-657ec34790b7 button.colab-df-convert');\n",
              "        buttonEl.style.display =\n",
              "          google.colab.kernel.accessAllowed ? 'block' : 'none';\n",
              "\n",
              "        async function convertToInteractive(key) {\n",
              "          const element = document.querySelector('#df-f6689bc2-7c33-499d-a086-657ec34790b7');\n",
              "          const dataTable =\n",
              "            await google.colab.kernel.invokeFunction('convertToInteractive',\n",
              "                                                     [key], {});\n",
              "          if (!dataTable) return;\n",
              "\n",
              "          const docLinkHtml = 'Like what you see? Visit the ' +\n",
              "            '<a target=\"_blank\" href=https://colab.research.google.com/notebooks/data_table.ipynb>data table notebook</a>'\n",
              "            + ' to learn more about interactive tables.';\n",
              "          element.innerHTML = '';\n",
              "          dataTable['output_type'] = 'display_data';\n",
              "          await google.colab.output.renderOutput(dataTable, element);\n",
              "          const docLink = document.createElement('div');\n",
              "          docLink.innerHTML = docLinkHtml;\n",
              "          element.appendChild(docLink);\n",
              "        }\n",
              "      </script>\n",
              "    </div>\n",
              "  </div>\n",
              "  "
            ]
          },
          "metadata": {},
          "execution_count": 9
        }
      ]
    },
    {
      "cell_type": "code",
      "source": [
        "fig,ax = plt.subplots(1,2, figsize =(10, 4))\n",
        "ax[0].hist(df, alpha = 0.5)\n",
        "ax[0].set_title(\"before decimal normaliization\")\n",
        "ax[1].hist(df_decimal, alpha = 0.5)\n",
        "ax[1].set_title('after decimal normalization')\n",
        "plt.show()"
      ],
      "metadata": {
        "colab": {
          "base_uri": "https://localhost:8080/",
          "height": 281
        },
        "id": "tdmXz21AHuTk",
        "outputId": "3b31a77e-00d7-48d8-e0c3-ce6c7ba8fca4"
      },
      "execution_count": 19,
      "outputs": [
        {
          "output_type": "display_data",
          "data": {
            "text/plain": [
              "<Figure size 720x288 with 2 Axes>"
            ],
            "image/png": "[encoded data removed]"
          },
          "metadata": {
            "needs_background": "light"
          }
        }
      ]
    },
    {
      "cell_type": "markdown",
      "source": [
        "#### Min-Max normalaization\n",
        "\n",
        "Also known as min-max scaling or min-max normalization, rescaling is the simplest method and consists in rescaling the range of features to scale the range in 0 to 1 or −1 to 1. Selecting the target range depends on the nature of the data. The general formula for a min-max of 0 to 1 is given as:\n",
        "\n",
        "![1662874378334.jpg](data:image/jpeg;base64,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)"
      ],
      "metadata": {
        "id": "XQCdvY1MJCh8"
      }
    },
    {
      "cell_type": "markdown",
      "source": [
        "where x is an original value, x' is the normalized value. For example, suppose that we have the students' weight data, and the students' weights span 160 pounds, 200 pounds. To rescale this data, we first subtract 160 from each student's weight and divide the result by 40 (the difference between the maximum and minimum weights)"
      ],
      "metadata": {
        "id": "avcS0szQJT2l"
      }
    },
    {
      "cell_type": "code",
      "source": [
        "from sklearn import preprocessing\n",
        "min_max_scaler = preprocessing.MinMaxScaler()\n",
        "df_minmax= min_max_scaler.fit_transform(df)"
      ],
      "metadata": {
        "id": "yJjYP1gPJWyN"
      },
      "execution_count": 20,
      "outputs": []
    },
    {
      "cell_type": "code",
      "source": [
        "#datafeame after Min-max scaler\n",
        "df_minmax = pd.DataFrame(df_minmax, columns= ['A', 'B', 'C'])\n",
        "df_minmax.head()"
      ],
      "metadata": {
        "colab": {
          "base_uri": "https://localhost:8080/",
          "height": 206
        },
        "id": "aeUn8XSxJ5jh",
        "outputId": "53ad4f57-9bc2-4f22-b1b6-fe2d61051e5f"
      },
      "execution_count": 21,
      "outputs": [
        {
          "output_type": "execute_result",
          "data": {
            "text/plain": [
              "          A         B         C\n",
              "0  0.007742  0.000978  0.000414\n",
              "1  0.033548  0.007255  0.005800\n",
              "2  0.847742  0.084047  0.000000\n",
              "3  1.000000  1.000000  0.070630\n",
              "4  0.041290  0.007500  0.094656"
            ],
            "text/html": [
              "\n",
              "  <div id=\"df-932b7ad4-7c5d-4c19-8a9f-c9f6f7ec7f55\">\n",
              "    <div class=\"colab-df-container\">\n",
              "      <div>\n",
              "<style scoped>\n",
              "    .dataframe tbody tr th:only-of-type {\n",
              "        vertical-align: middle;\n",
              "    }\n",
              "\n",
              "    .dataframe tbody tr th {\n",
              "        vertical-align: top;\n",
              "    }\n",
              "\n",
              "    .dataframe thead th {\n",
              "        text-align: right;\n",
              "    }\n",
              "</style>\n",
              "<table border=\"1\" class=\"dataframe\">\n",
              "  <thead>\n",
              "    <tr style=\"text-align: right;\">\n",
              "      <th></th>\n",
              "      <th>A</th>\n",
              "      <th>B</th>\n",
              "      <th>C</th>\n",
              "    </tr>\n",
              "  </thead>\n",
              "  <tbody>\n",
              "    <tr>\n",
              "      <th>0</th>\n",
              "      <td>0.007742</td>\n",
              "      <td>0.000978</td>\n",
              "      <td>0.000414</td>\n",
              "    </tr>\n",
              "    <tr>\n",
              "      <th>1</th>\n",
              "      <td>0.033548</td>\n",
              "      <td>0.007255</td>\n",
              "      <td>0.005800</td>\n",
              "    </tr>\n",
              "    <tr>\n",
              "      <th>2</th>\n",
              "      <td>0.847742</td>\n",
              "      <td>0.084047</td>\n",
              "      <td>0.000000</td>\n",
              "    </tr>\n",
              "    <tr>\n",
              "      <th>3</th>\n",
              "      <td>1.000000</td>\n",
              "      <td>1.000000</td>\n",
              "      <td>0.070630</td>\n",
              "    </tr>\n",
              "    <tr>\n",
              "      <th>4</th>\n",
              "      <td>0.041290</td>\n",
              "      <td>0.007500</td>\n",
              "      <td>0.094656</td>\n",
              "    </tr>\n",
              "  </tbody>\n",
              "</table>\n",
              "</div>\n",
              "      <button class=\"colab-df-convert\" onclick=\"convertToInteractive('df-932b7ad4-7c5d-4c19-8a9f-c9f6f7ec7f55')\"\n",
              "              title=\"Convert this dataframe to an interactive table.\"\n",
              "              style=\"display:none;\">\n",
              "        \n",
              "  <svg xmlns=\"http://www.w3.org/2000/svg\" height=\"24px\"viewBox=\"0 0 24 24\"\n",
              "       width=\"24px\">\n",
              "    <path d=\"M0 0h24v24H0V0z\" fill=\"none\"/>\n",
              "    <path d=\"M18.56 5.44l.94 2.06.94-2.06 2.06-.94-2.06-.94-.94-2.06-.94 2.06-2.06.94zm-11 1L8.5 8.5l.94-2.06 2.06-.94-2.06-.94L8.5 2.5l-.94 2.06-2.06.94zm10 10l.94 2.06.94-2.06 2.06-.94-2.06-.94-.94-2.06-.94 2.06-2.06.94z\"/><path d=\"M17.41 7.96l-1.37-1.37c-.4-.4-.92-.59-1.43-.59-.52 0-1.04.2-1.43.59L10.3 9.45l-7.72 7.72c-.78.78-.78 2.05 0 2.83L4 21.41c.39.39.9.59 1.41.59.51 0 1.02-.2 1.41-.59l7.78-7.78 2.81-2.81c.8-.78.8-2.07 0-2.86zM5.41 20L4 18.59l7.72-7.72 1.47 1.35L5.41 20z\"/>\n",
              "  </svg>\n",
              "      </button>\n",
              "      \n",
              "  <style>\n",
              "    .colab-df-container {\n",
              "      display:flex;\n",
              "      flex-wrap:wrap;\n",
              "      gap: 12px;\n",
              "    }\n",
              "\n",
              "    .colab-df-convert {\n",
              "      background-color: #E8F0FE;\n",
              "      border: none;\n",
              "      border-radius: 50%;\n",
              "      cursor: pointer;\n",
              "      display: none;\n",
              "      fill: #1967D2;\n",
              "      height: 32px;\n",
              "      padding: 0 0 0 0;\n",
              "      width: 32px;\n",
              "    }\n",
              "\n",
              "    .colab-df-convert:hover {\n",
              "      background-color: #E2EBFA;\n",
              "      box-shadow: 0px 1px 2px rgba(60, 64, 67, 0.3), 0px 1px 3px 1px rgba(60, 64, 67, 0.15);\n",
              "      fill: #174EA6;\n",
              "    }\n",
              "\n",
              "    [theme=dark] .colab-df-convert {\n",
              "      background-color: #3B4455;\n",
              "      fill: #D2E3FC;\n",
              "    }\n",
              "\n",
              "    [theme=dark] .colab-df-convert:hover {\n",
              "      background-color: #434B5C;\n",
              "      box-shadow: 0px 1px 3px 1px rgba(0, 0, 0, 0.15);\n",
              "      filter: drop-shadow(0px 1px 2px rgba(0, 0, 0, 0.3));\n",
              "      fill: #FFFFFF;\n",
              "    }\n",
              "  </style>\n",
              "\n",
              "      <script>\n",
              "        const buttonEl =\n",
              "          document.querySelector('#df-932b7ad4-7c5d-4c19-8a9f-c9f6f7ec7f55 button.colab-df-convert');\n",
              "        buttonEl.style.display =\n",
              "          google.colab.kernel.accessAllowed ? 'block' : 'none';\n",
              "\n",
              "        async function convertToInteractive(key) {\n",
              "          const element = document.querySelector('#df-932b7ad4-7c5d-4c19-8a9f-c9f6f7ec7f55');\n",
              "          const dataTable =\n",
              "            await google.colab.kernel.invokeFunction('convertToInteractive',\n",
              "                                                     [key], {});\n",
              "          if (!dataTable) return;\n",
              "\n",
              "          const docLinkHtml = 'Like what you see? Visit the ' +\n",
              "            '<a target=\"_blank\" href=https://colab.research.google.com/notebooks/data_table.ipynb>data table notebook</a>'\n",
              "            + ' to learn more about interactive tables.';\n",
              "          element.innerHTML = '';\n",
              "          dataTable['output_type'] = 'display_data';\n",
              "          await google.colab.output.renderOutput(dataTable, element);\n",
              "          const docLink = document.createElement('div');\n",
              "          docLink.innerHTML = docLinkHtml;\n",
              "          element.appendChild(docLink);\n",
              "        }\n",
              "      </script>\n",
              "    </div>\n",
              "  </div>\n",
              "  "
            ]
          },
          "metadata": {},
          "execution_count": 21
        }
      ]
    },
    {
      "cell_type": "code",
      "source": [
        "fig,ax = plt.subplots(1,2, figsize =(10, 4))\n",
        "ax[0].hist(df, alpha = 0.5)\n",
        "ax[0].set_title(\"before decimal normaliization\")\n",
        "ax[1].hist(df_minmax, alpha = 0.5)\n",
        "ax[1].set_title('after decimal normalization')\n",
        "plt.show()"
      ],
      "metadata": {
        "colab": {
          "base_uri": "https://localhost:8080/",
          "height": 281
        },
        "id": "ms-D8xFLKivg",
        "outputId": "f4b48e0c-56b6-4a79-9beb-aede79ebdb10"
      },
      "execution_count": 22,
      "outputs": [
        {
          "output_type": "display_data",
          "data": {
            "text/plain": [
              "<Figure size 720x288 with 2 Axes>"
            ],
            "image/png": "[encoded data removed]"
          },
          "metadata": {
            "needs_background": "light"
          }
        }
      ]
    },
    {
      "cell_type": "markdown",
      "source": [
        "#### Z-Score Normalization / Standardization (zero-mean Normalization):\n",
        "\n",
        "Feature standardization makes the values of each feature in the data have zero-mean (when subtracting the mean in the numerator) and unit-variance. This method is widely used for normalization in many machine learning algorithms (e.g., support vector machines, logistic regression, and artificial neural networks). The general method of calculation is to determine the distribution mean and standard deviation for each feature. Next we subtract the mean from each feature. Then we divide the values (mean is already subtracted) of each feature by its standard deviation."
      ],
      "metadata": {
        "id": "zjxc7yFnLNnF"
      }
    },
    {
      "cell_type": "markdown",
      "source": [
        "![1662875221120.jpg](data:image/jpeg;base64,/9j/4AAQSkZJRgABAQAAAQABAAD/2wBDAAMCAgMCAgMDAwMEAwMEBQgFBQQEBQoHBwYIDAoMDAsKCwsNDhIQDQ4RDgsLEBYQERMUFRUVDA8XGBYUGBIUFRT/2wBDAQMEBAUEBQkFBQkUDQsNFBQUFBQUFBQUFBQUFBQUFBQUFBQUFBQUFBQUFBQUFBQUFBQUFBQUFBQUFBQUFBQUFBT/wgARCABGAJcDASIAAhEBAxEB/8QAGgABAQEBAQEBAAAAAAAAAAAAAAYFBAcCCP/EABQBAQAAAAAAAAAAAAAAAAAAAAD/2gAMAwEAAhADEAAAAf1SAAAAAAAAAAASBXgTFPCnbrtYxW1PkR6vI1wAAAx9j4PB/e+XqMCd9BHLP1Qj1hiGU47wkK8AAAAAAAEfYCZpgAAAAAAAAAAAAAA//8QAIxAAAgIBAwMFAAAAAAAAAAAAAwUCBAABBhMQIFAREiEwQP/aAAgBAQABBQLxrpiddWTM7bGVppVpkA4p2SsvfMG2rM7Nn6U5LFpj1f7eK8ypXKHq0onu4kSSTV+9pYhUWhCtbN8axlIXCbA/ArA3OpuF9nC+zhfZwvs0E99e+UdJaRrihr3MmYVYk+6dHNz8LJacjdMskvj47//EABQRAQAAAAAAAAAAAAAAAAAAAFD/2gAIAQMBAT8BS//EABQRAQAAAAAAAAAAAAAAAAAAAFD/2gAIAQIBAT8BS//EADUQAAIBAgIGBggHAAAAAAAAAAECAwQRABIFEyEiMUEUNFFxlNIQIDAyUGGBsUBygpGSodP/2gAIAQEABj8C+GyyxQqywxNNI8jWUADh34dp6E00JjjkifNfNmF7d42YyTTLG9r2OBHFUI8jcAMCJIjMZTl94qF53JG3l9sRSxaOZKd9bG1QKhnF0a3PtI9lpWd5CaXWiGCPkMg3j/Ikfp9SVOnywU0sGoeFRccb5u/l3YZp5tbI1huDKigdi3Ppg6PWPRmN8xyi4cWIsfviGn6TrIIFKRLly8Te7bd4/tz9hVTSytBGkbFpUFymziMaQtJJDSx9HihWBrM8l8xb83AE8dh2+hMsVVLt4UsgQ/W7DHVNMeKj/wBMJsYbODm5+uH1NRQrFfdD07k2+Zz461o7wz+fHWtHeGfz461o7wz+fHWtHeGfz4F6rR9vlTP5/YEEXBwpWNVKjKtl4Ds9dWlzu0jZI4o1zO7dgGJadNG19OYWyyPUIqhDa9jvX5/gqCvgCS9HWRNXI2X38u8DY9n94qJJnElVVSmaYrwvwAHyAAHw/wD/xAAkEAEBAAECBQQDAAAAAAAAAAABESEAMSBBUWFxEDBAUIGhsf/aAAgBAQABPyH61RrdmJlBVR5QCvIUxMA5hM6OTtVCyoZei+ZUv6dW+BVlxf4aAVOyCisQAjGVRi0nxfE5MHsyYpHPtG3iTYgfda8OCqNVKUyyTAVG0EW6kySCkMDQ3VVV8AHoOlPymIUsUGZQo6MCNVUULRh3AZwzjjlHeihYo1NwjoRu0zSmatMWCoimqhxlsZuip+X0KVQoIgHyFF710vv1OfJAC+A4Xbt27zy1mFnsQbAiJRNXGzAHouh24xWCIoSxbsFXYBVA0v8AwZqBB5AkG3p8JMO+89AZCxE2U2jfwVUoKeYQuWLCw+u//9oADAMBAAIAAwAAABDzzzzzzzzzzzjziwhTzzzjRywwRzzzzzzzzxzzzzzzzzzzzzzzz//EABQRAQAAAAAAAAAAAAAAAAAAAFD/2gAIAQMBAT8QS//EABQRAQAAAAAAAAAAAAAAAAAAAFD/2gAIAQIBAT8QS//EACQQAAEBBgYDAAAAAAAAAAAAAAEAEBEgITBxMUFQUWGBQLHw/9oACAEBAAE/ENOBW5CAAAQBvagBAAABA/5OER/AZIkvMjjxA2IUVIMAAAVcVKRwogAKpH8EGSRobW4xAgABAuWGSwaAAAA/lj2EDCIECzdzI2gaAAJtBI+jsAAEGOzKygQAgACSR7ifoAGBMRUtEgOuAAjaokcRCIBevXr3WwK2AobKBjgXXzrYRGCqQNGA4YIQAJ1DL1AAEZAA+E4ut8wBXIAagcZLbAhIAB//2Q==)"
      ],
      "metadata": {
        "id": "yrQtFoRRLXuE"
      }
    },
    {
      "cell_type": "markdown",
      "source": [
        "Where x is the original feature vector, x̅ = average(x) is the mean of that feature vector, and 𝜎 is its standard deviation."
      ],
      "metadata": {
        "id": "7vzAa84rLZ-8"
      }
    },
    {
      "cell_type": "code",
      "source": [
        "from sklearn.preprocessing import StandardScaler\n",
        "sc_X = StandardScaler()\n",
        "df_std = sc_X.fit_transform(df)"
      ],
      "metadata": {
        "id": "9gns8subLfvl"
      },
      "execution_count": 23,
      "outputs": []
    },
    {
      "cell_type": "code",
      "source": [
        "# Data frame after z-score scalar\n",
        "df_std = pd.DataFrame(df_std, columns=['A', 'B', 'C'])\n",
        "df_std.head()"
      ],
      "metadata": {
        "colab": {
          "base_uri": "https://localhost:8080/",
          "height": 206
        },
        "id": "_nYwcVtkMOj8",
        "outputId": "d0e1cf2e-2fb9-4eb6-f303-3e75dd5a226e"
      },
      "execution_count": 24,
      "outputs": [
        {
          "output_type": "execute_result",
          "data": {
            "text/plain": [
              "          A         B         C\n",
              "0 -0.843941 -0.380171 -0.465315\n",
              "1 -0.774623 -0.358994 -0.446945\n",
              "2  1.412344 -0.099918 -0.466728\n",
              "3  1.821318  2.990293 -0.225804\n",
              "4 -0.753828 -0.358168 -0.143848"
            ],
            "text/html": [
              "\n",
              "  <div id=\"df-1e580011-ce6c-4d53-bb68-a84ce0610f2b\">\n",
              "    <div class=\"colab-df-container\">\n",
              "      <div>\n",
              "<style scoped>\n",
              "    .dataframe tbody tr th:only-of-type {\n",
              "        vertical-align: middle;\n",
              "    }\n",
              "\n",
              "    .dataframe tbody tr th {\n",
              "        vertical-align: top;\n",
              "    }\n",
              "\n",
              "    .dataframe thead th {\n",
              "        text-align: right;\n",
              "    }\n",
              "</style>\n",
              "<table border=\"1\" class=\"dataframe\">\n",
              "  <thead>\n",
              "    <tr style=\"text-align: right;\">\n",
              "      <th></th>\n",
              "      <th>A</th>\n",
              "      <th>B</th>\n",
              "      <th>C</th>\n",
              "    </tr>\n",
              "  </thead>\n",
              "  <tbody>\n",
              "    <tr>\n",
              "      <th>0</th>\n",
              "      <td>-0.843941</td>\n",
              "      <td>-0.380171</td>\n",
              "      <td>-0.465315</td>\n",
              "    </tr>\n",
              "    <tr>\n",
              "      <th>1</th>\n",
              "      <td>-0.774623</td>\n",
              "      <td>-0.358994</td>\n",
              "      <td>-0.446945</td>\n",
              "    </tr>\n",
              "    <tr>\n",
              "      <th>2</th>\n",
              "      <td>1.412344</td>\n",
              "      <td>-0.099918</td>\n",
              "      <td>-0.466728</td>\n",
              "    </tr>\n",
              "    <tr>\n",
              "      <th>3</th>\n",
              "      <td>1.821318</td>\n",
              "      <td>2.990293</td>\n",
              "      <td>-0.225804</td>\n",
              "    </tr>\n",
              "    <tr>\n",
              "      <th>4</th>\n",
              "      <td>-0.753828</td>\n",
              "      <td>-0.358168</td>\n",
              "      <td>-0.143848</td>\n",
              "    </tr>\n",
              "  </tbody>\n",
              "</table>\n",
              "</div>\n",
              "      <button class=\"colab-df-convert\" onclick=\"convertToInteractive('df-1e580011-ce6c-4d53-bb68-a84ce0610f2b')\"\n",
              "              title=\"Convert this dataframe to an interactive table.\"\n",
              "              style=\"display:none;\">\n",
              "        \n",
              "  <svg xmlns=\"http://www.w3.org/2000/svg\" height=\"24px\"viewBox=\"0 0 24 24\"\n",
              "       width=\"24px\">\n",
              "    <path d=\"M0 0h24v24H0V0z\" fill=\"none\"/>\n",
              "    <path d=\"M18.56 5.44l.94 2.06.94-2.06 2.06-.94-2.06-.94-.94-2.06-.94 2.06-2.06.94zm-11 1L8.5 8.5l.94-2.06 2.06-.94-2.06-.94L8.5 2.5l-.94 2.06-2.06.94zm10 10l.94 2.06.94-2.06 2.06-.94-2.06-.94-.94-2.06-.94 2.06-2.06.94z\"/><path d=\"M17.41 7.96l-1.37-1.37c-.4-.4-.92-.59-1.43-.59-.52 0-1.04.2-1.43.59L10.3 9.45l-7.72 7.72c-.78.78-.78 2.05 0 2.83L4 21.41c.39.39.9.59 1.41.59.51 0 1.02-.2 1.41-.59l7.78-7.78 2.81-2.81c.8-.78.8-2.07 0-2.86zM5.41 20L4 18.59l7.72-7.72 1.47 1.35L5.41 20z\"/>\n",
              "  </svg>\n",
              "      </button>\n",
              "      \n",
              "  <style>\n",
              "    .colab-df-container {\n",
              "      display:flex;\n",
              "      flex-wrap:wrap;\n",
              "      gap: 12px;\n",
              "    }\n",
              "\n",
              "    .colab-df-convert {\n",
              "      background-color: #E8F0FE;\n",
              "      border: none;\n",
              "      border-radius: 50%;\n",
              "      cursor: pointer;\n",
              "      display: none;\n",
              "      fill: #1967D2;\n",
              "      height: 32px;\n",
              "      padding: 0 0 0 0;\n",
              "      width: 32px;\n",
              "    }\n",
              "\n",
              "    .colab-df-convert:hover {\n",
              "      background-color: #E2EBFA;\n",
              "      box-shadow: 0px 1px 2px rgba(60, 64, 67, 0.3), 0px 1px 3px 1px rgba(60, 64, 67, 0.15);\n",
              "      fill: #174EA6;\n",
              "    }\n",
              "\n",
              "    [theme=dark] .colab-df-convert {\n",
              "      background-color: #3B4455;\n",
              "      fill: #D2E3FC;\n",
              "    }\n",
              "\n",
              "    [theme=dark] .colab-df-convert:hover {\n",
              "      background-color: #434B5C;\n",
              "      box-shadow: 0px 1px 3px 1px rgba(0, 0, 0, 0.15);\n",
              "      filter: drop-shadow(0px 1px 2px rgba(0, 0, 0, 0.3));\n",
              "      fill: #FFFFFF;\n",
              "    }\n",
              "  </style>\n",
              "\n",
              "      <script>\n",
              "        const buttonEl =\n",
              "          document.querySelector('#df-1e580011-ce6c-4d53-bb68-a84ce0610f2b button.colab-df-convert');\n",
              "        buttonEl.style.display =\n",
              "          google.colab.kernel.accessAllowed ? 'block' : 'none';\n",
              "\n",
              "        async function convertToInteractive(key) {\n",
              "          const element = document.querySelector('#df-1e580011-ce6c-4d53-bb68-a84ce0610f2b');\n",
              "          const dataTable =\n",
              "            await google.colab.kernel.invokeFunction('convertToInteractive',\n",
              "                                                     [key], {});\n",
              "          if (!dataTable) return;\n",
              "\n",
              "          const docLinkHtml = 'Like what you see? Visit the ' +\n",
              "            '<a target=\"_blank\" href=https://colab.research.google.com/notebooks/data_table.ipynb>data table notebook</a>'\n",
              "            + ' to learn more about interactive tables.';\n",
              "          element.innerHTML = '';\n",
              "          dataTable['output_type'] = 'display_data';\n",
              "          await google.colab.output.renderOutput(dataTable, element);\n",
              "          const docLink = document.createElement('div');\n",
              "          docLink.innerHTML = docLinkHtml;\n",
              "          element.appendChild(docLink);\n",
              "        }\n",
              "      </script>\n",
              "    </div>\n",
              "  </div>\n",
              "  "
            ]
          },
          "metadata": {},
          "execution_count": 24
        }
      ]
    },
    {
      "cell_type": "code",
      "source": [
        "fig,ax = plt.subplots(1,2, figsize =(10, 4))\n",
        "ax[0].hist(df, alpha = 0.5)\n",
        "ax[0].set_title(\"before decimal normaliization\")\n",
        "ax[1].hist(df_std, alpha = 0.5)\n",
        "ax[1].set_title('after decimal normalization')\n",
        "plt.show()"
      ],
      "metadata": {
        "colab": {
          "base_uri": "https://localhost:8080/",
          "height": 281
        },
        "id": "wQL6axA4M0BJ",
        "outputId": "8314eeaf-24a3-42b4-a044-4265d0332c77"
      },
      "execution_count": 26,
      "outputs": [
        {
          "output_type": "display_data",
          "data": {
            "text/plain": [
              "<Figure size 720x288 with 2 Axes>"
            ],
            "image/png": "[encoded data removed]"
          },
          "metadata": {
            "needs_background": "light"
          }
        }
      ]
    },
    {
      "cell_type": "markdown",
      "source": [
        "Some machine learning algorithms benefit from normalization and standardization, particularly when Euclidean distance is used. For example, if one of the variables in the K-Nearest Neighbor, KNN, is in the 1000s and the other is in the 0.1s, the first variable will dominate the distance rather strongly. In this scenario, normalization and standardization might be beneficial."
      ],
      "metadata": {
        "id": "1zybcVXANENl"
      }
    },
    {
      "cell_type": "markdown",
      "source": [
        "#### When to use normalization and standardization:\n",
        "\n",
        "When you don’t know the distribution of your data or when you know it’s not a Gaussian, normalization is a smart approach to apply. Normalization is useful when your data has variable scales and the technique you’re employing, such as k-nearest neighbors and artificial neural networks, doesn’t make assumptions about the distribution of your data.\n",
        "The assumption behind standardization is that your data follows a Gaussian (bell curve) distribution. This isn’t required, however, it helps the approach work better if your attribute distribution is Gaussian. When your data has variable dimensions and the technique you’re using (like logistic regression, linear regression, linear discriminant analysis) standardization is useful.\n",
        "We normalize training data to solve the model learning challenge. We make sure that the various features have similar value ranges (feature scaling) so that gradient descents can converge faster."
      ],
      "metadata": {
        "id": "rMpOs-sGNIL0"
      }
    },
    {
      "cell_type": "code",
      "source": [],
      "metadata": {
        "id": "cSWJxymBNDTV"
      },
      "execution_count": null,
      "outputs": []
    }
  ]
}